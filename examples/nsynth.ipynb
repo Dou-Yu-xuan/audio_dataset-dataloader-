{
 "cells": [
  {
   "cell_type": "code",
   "execution_count": 2,
   "metadata": {},
   "outputs": [],
   "source": [
    "import sys\n",
    "sys.path.append(\"/workspace/jgusak/dataloaders\")\n",
    "\n",
    "from misc import get_train_transform, get_test_transform\n",
    "from nsynth import NSynthH5PyDataset, AUDIO, PITCH\n",
    "\n",
    "from torch.utils import data"
   ]
  },
  {
   "cell_type": "markdown",
   "metadata": {},
   "source": [
    "### Create dataset"
   ]
  },
  {
   "cell_type": "code",
   "execution_count": 3,
   "metadata": {},
   "outputs": [
    {
     "name": "stdout",
     "output_type": "stream",
     "text": [
      "[100 100 100 ...  76  76  76]\n",
      "Dataset Len 289205\n",
      "item 0 {'audio': array([[[-3.7326345e-08, -9.8574212e-08, -8.0184151e-08, ...,\n",
      "          0.0000000e+00,  0.0000000e+00,  0.0000000e+00]]], dtype=float32), 'pitch': array([[0., 0., 0., 0., 0., 0., 0., 0., 0., 0., 0., 0., 0., 0., 0., 0.,\n",
      "        0., 0., 0., 0., 0., 0., 0., 0., 0., 0., 0., 0., 0., 0., 0., 0.,\n",
      "        0., 0., 0., 0., 0., 0., 0., 0., 0., 0., 0., 0., 0., 0., 0., 0.,\n",
      "        0., 0., 0., 0., 0., 0., 0., 0., 0., 0., 0., 0., 0., 0., 0., 0.,\n",
      "        0., 0., 0., 0., 0., 0., 0., 0., 0., 0., 0., 0., 0., 0., 0., 0.,\n",
      "        0., 0., 0., 0., 0., 0., 0., 0., 0., 0., 0., 1., 0., 0., 0., 0.,\n",
      "        0., 0., 0., 0., 0., 0., 0., 0., 0., 0., 0., 0., 0., 0., 0., 0.]]), 'velocity': 3, 'instrument_source': 2, 'instrument_family': 0, 'qualities': array([0, 0, 1, 1, 0, 0, 0, 1, 0, 0])}\n"
     ]
    }
   ],
   "source": [
    "PATH_TO_DATASET = '/workspace/datasets/nsynth'\n",
    "\n",
    "train_transforms = get_train_transform(length=2 ** 14)\n",
    "train_dataset = NSynthH5PyDataset(\"{}/nsynth-train.hdf5\".format(PATH_TO_DATASET),\n",
    "                            one_hot_pitch=True,\n",
    "                            encode_cat=True,\n",
    "                            transforms=train_transforms,\n",
    "                            sr=16000,\n",
    "                            in_memory=True)\n",
    "\n",
    "print(\"Dataset Len\", len(train_dataset))\n",
    "print(\"item 0\", train_dataset[0])"
   ]
  },
  {
   "cell_type": "markdown",
   "metadata": {},
   "source": [
    "### Create dataloader"
   ]
  },
  {
   "cell_type": "code",
   "execution_count": 5,
   "metadata": {},
   "outputs": [
    {
     "name": "stdout",
     "output_type": "stream",
     "text": [
      "torch.Size([64, 1, 1, 16384])\n",
      "torch.Size([64, 1, 112])\n"
     ]
    }
   ],
   "source": [
    "params = {'batch_size': 64,\n",
    "          'shuffle': True,\n",
    "          'num_workers': 4}\n",
    "train_loader = data.DataLoader(train_dataset, **params)\n",
    "\n",
    "for batch in train_loader:\n",
    "    print(batch[AUDIO].shape)\n",
    "    print(batch[PITCH].shape)\n",
    "    break"
   ]
  },
  {
   "cell_type": "code",
   "execution_count": null,
   "metadata": {},
   "outputs": [],
   "source": []
  }
 ],
 "metadata": {
  "kernelspec": {
   "display_name": "Python 3",
   "language": "python",
   "name": "python3"
  },
  "language_info": {
   "codemirror_mode": {
    "name": "ipython",
    "version": 3
   },
   "file_extension": ".py",
   "mimetype": "text/x-python",
   "name": "python",
   "nbconvert_exporter": "python",
   "pygments_lexer": "ipython3",
   "version": "3.6.6"
  }
 },
 "nbformat": 4,
 "nbformat_minor": 2
}
