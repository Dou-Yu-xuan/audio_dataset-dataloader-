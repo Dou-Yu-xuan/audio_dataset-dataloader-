{
 "cells": [
  {
   "cell_type": "code",
   "execution_count": 1,
   "metadata": {},
   "outputs": [],
   "source": [
    "from nsynth_reader import *"
   ]
  },
  {
   "cell_type": "code",
   "execution_count": 3,
   "metadata": {},
   "outputs": [],
   "source": [
    "data_path = \"/workspace/jgusak/Data\"\n",
    "tfrecord_path = \"{}/nsynth/nsynth-train.tfrecord\".format(data_path)"
   ]
  },
  {
   "cell_type": "markdown",
   "metadata": {},
   "source": [
    "#####  Read tfrecords without defining a graph\n",
    "Create generator to iterate through tfrecords "
   ]
  },
  {
   "cell_type": "code",
   "execution_count": 36,
   "metadata": {},
   "outputs": [
    {
     "name": "stdout",
     "output_type": "stream",
     "text": [
      "0 2 100 0 100\n",
      "[ 98  97 115 115  95 115 121 110 116 104 101 116 105  99  95  48  49  56\n",
      "  45  49  48  48  45  49  48  48]\n",
      "(64000,)\n"
     ]
    }
   ],
   "source": [
    "record_iterator  =  tf.python_io.tf_record_iterator(path=tfrecord_path)\n",
    "\n",
    "for string_record in record_iterator:\n",
    "    example = tf.train.Example()\n",
    "    example.ParseFromString(string_record)\n",
    "    \n",
    "    \n",
    "    \n",
    "    audio = example.features.feature['audio'].float_list.value\n",
    "    audio = np.array(audio)\n",
    "\n",
    "    instrument_family = example.features.feature['instrument_family'].int64_list.value[0]\n",
    "    instrument_source = example.features.feature['instrument_source'].int64_list.value[0]\n",
    "\n",
    "    note_str = example.features.feature['note_str'].bytes_list.value[0]\n",
    "    note = np.frombuffer(note_str, dtype = np.uint8)\n",
    "    \n",
    "\n",
    "    pitch = example.features.feature['pitch'].int64_list.value[0]\n",
    "    qualities = example.features.feature['qualities'].int64_list.value[0]\n",
    "    velocity = example.features.feature['velocity'].int64_list.value[0]\n",
    "    \n",
    "    print(instrument_family, instrument_source,  pitch, qualities, velocity)\n",
    "    print(note)\n",
    "    print(audio.shape)\n",
    "    break"
   ]
  },
  {
   "cell_type": "markdown",
   "metadata": {},
   "source": [
    "##### Create dataset"
   ]
  },
  {
   "cell_type": "code",
   "execution_count": 4,
   "metadata": {},
   "outputs": [],
   "source": [
    "dataset = NSynthDataset(tfrecord_path, is_training=False)"
   ]
  },
  {
   "cell_type": "markdown",
   "metadata": {},
   "source": [
    "##### Get dataset batch"
   ]
  },
  {
   "cell_type": "code",
   "execution_count": 5,
   "metadata": {},
   "outputs": [
    {
     "name": "stdout",
     "output_type": "stream",
     "text": [
      "dict_keys(['audio', 'instrument_family', 'instrument_source', 'note_str', 'pitch', 'qualities', 'velocity'])\n"
     ]
    },
    {
     "data": {
      "text/plain": [
       "{'audio': <tf.Tensor 'ParseSingleExample/ParseSingleExample:0' shape=(64000,) dtype=float32>,\n",
       " 'instrument_family': <tf.Tensor 'ParseSingleExample/ParseSingleExample:1' shape=(1,) dtype=int64>,\n",
       " 'instrument_source': <tf.Tensor 'ParseSingleExample/ParseSingleExample:2' shape=(1,) dtype=int64>,\n",
       " 'note_str': <tf.Tensor 'ParseSingleExample/ParseSingleExample:3' shape=() dtype=string>,\n",
       " 'pitch': <tf.Tensor 'ParseSingleExample/ParseSingleExample:4' shape=(1,) dtype=int64>,\n",
       " 'qualities': <tf.Tensor 'ParseSingleExample/ParseSingleExample:5' shape=(10,) dtype=int64>,\n",
       " 'velocity': <tf.Tensor 'ParseSingleExample/ParseSingleExample:6' shape=(1,) dtype=int64>}"
      ]
     },
     "execution_count": 5,
     "metadata": {},
     "output_type": "execute_result"
    }
   ],
   "source": [
    "# get a batch in the following format: tf.Example protobuf parsed from tfrecord\n",
    "batch = dataset.get_example(batch_size = 10)\n",
    "print(batch.keys())\n",
    "\n",
    "batch"
   ]
  },
  {
   "cell_type": "code",
   "execution_count": 6,
   "metadata": {},
   "outputs": [
    {
     "name": "stdout",
     "output_type": "stream",
     "text": [
      "dict_keys(['pitch', 'wav', 'key'])\n"
     ]
    },
    {
     "data": {
      "text/plain": [
       "{'pitch': <tf.Tensor 'Cast:0' shape=(10,) dtype=int32>,\n",
       " 'wav': <tf.Tensor 'Reshape_1:0' shape=(10, 64000) dtype=float32>,\n",
       " 'key': <tf.Tensor 'shuffle_batch:0' shape=(10,) dtype=string>}"
      ]
     },
     "execution_count": 6,
     "metadata": {},
     "output_type": "execute_result"
    }
   ],
   "source": [
    "#get a batch in the following format: {key:tensor} \n",
    "batch = dataset.get_wavenet_batch(batch_size = 10)\n",
    "print(batch.keys())\n",
    "\n",
    "batch"
   ]
  },
  {
   "cell_type": "markdown",
   "metadata": {},
   "source": [
    "##### Define graph to read tfrecords and  iterate through batches"
   ]
  },
  {
   "cell_type": "code",
   "execution_count": 13,
   "metadata": {},
   "outputs": [
    {
     "name": "stdout",
     "output_type": "stream",
     "text": [
      "(50, 40000) (50,)\n",
      "(50, 40000) (50,)\n",
      "(50, 40000) (50,)\n"
     ]
    }
   ],
   "source": [
    "dataset = NSynthDataset(tfrecord_path=tfrecord_path)\n",
    "\n",
    "LENGTH = 40000\n",
    "batch = dataset.get_wavenet_batch(batch_size = 50, length = LENGTH) \n",
    "\n",
    "# The op for initializing the variables.\n",
    "init_op = tf.group(tf.global_variables_initializer(),\n",
    "                   tf.local_variables_initializer())\n",
    "\n",
    "with tf.Session() as sess:\n",
    "    \n",
    "    sess.run(init_op)\n",
    "    \n",
    "    coord = tf.train.Coordinator()\n",
    "    threads = tf.train.start_queue_runners(coord = coord)\n",
    "    \n",
    "    for i in range(3):\n",
    "    \n",
    "        batch_np = sess.run(batch)\n",
    "        features, labels = batch_np['wav'], batch_np['pitch']\n",
    "\n",
    "        print(features.shape, labels.shape)\n",
    "        \n",
    "    coord.request_stop()\n",
    "    coord.join(threads)"
   ]
  },
  {
   "cell_type": "code",
   "execution_count": null,
   "metadata": {},
   "outputs": [],
   "source": []
  }
 ],
 "metadata": {
  "kernelspec": {
   "display_name": "Python 3",
   "language": "python",
   "name": "python3"
  },
  "language_info": {
   "codemirror_mode": {
    "name": "ipython",
    "version": 3
   },
   "file_extension": ".py",
   "mimetype": "text/x-python",
   "name": "python",
   "nbconvert_exporter": "python",
   "pygments_lexer": "ipython3",
   "version": "3.6.5"
  }
 },
 "nbformat": 4,
 "nbformat_minor": 2
}
